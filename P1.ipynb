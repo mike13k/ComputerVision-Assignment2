{
 "cells": [
  {
   "cell_type": "code",
   "execution_count": 1,
   "metadata": {},
   "outputs": [],
   "source": [
    "from PIL import Image\n",
    "import numpy as np \n",
    "import matplotlib.pyplot as plt\n",
    "import math"
   ]
  },
  {
   "cell_type": "code",
   "execution_count": 2,
   "metadata": {},
   "outputs": [],
   "source": [
    "def get_filter_size(sigma):\n",
    "    s = (2 * math.ceil(3*sigma)) + 1\n",
    "    return s"
   ]
  },
  {
   "cell_type": "code",
   "execution_count": 3,
   "metadata": {},
   "outputs": [],
   "source": [
    "def calculate_log(x, y, sigma):\n",
    "    return (-1/(math.pi*(sigma**4))) * (1 - ( ((x**2)+(y**2))/(2*(sigma**2)) ) ) * (math.e**( ((x**2)+(y**2)) / (2*(sigma**2)) ))"
   ]
  },
  {
   "cell_type": "code",
   "execution_count": 8,
   "metadata": {},
   "outputs": [],
   "source": [
    "def calculate_filter(sigma):\n",
    "    size = get_filter_size(sigma)\n",
    "    log_filter = np.zeros((size,size))\n",
    "    \n",
    "    center_x = math.floor(size / 2)\n",
    "    center_y = math.floor(size / 2)\n",
    "    \n",
    "    for i in range(size):\n",
    "        for j in range(size):\n",
    "            distance_x = abs(center_x - j)\n",
    "            distance_y = abs(center_y - i)\n",
    "            log_filter[i][j] = calculate_log(distance_x,distance_y,sigma)\n",
    "            \n",
    "    return log_filter, size"
   ]
  },
  {
   "cell_type": "code",
   "execution_count": 6,
   "metadata": {},
   "outputs": [],
   "source": [
    "def detect_edge(img, sigma):\n",
    "    original_img = img.copy()\n",
    "    log_filter, size = calculate_filter(sigma)\n",
    "    \n",
    "    # Apply \"log_filter\" on \"original_img\" in some way\n",
    "    # and put the values in \"img\""
   ]
  },
  {
   "cell_type": "code",
   "execution_count": 9,
   "metadata": {},
   "outputs": [
    {
     "name": "stdout",
     "output_type": "stream",
     "text": [
      "13\n",
      "[[ 1.28964586e+03  2.70029649e+02  7.27791479e+01  2.55122254e+01\n",
      "   1.18103439e+01  7.35614251e+00  6.26791874e+00  7.35614251e+00\n",
      "   1.18103439e+01  2.55122254e+01  7.27791479e+01  2.70029649e+02\n",
      "   1.28964586e+03]\n",
      " [ 2.70029649e+02  5.41040729e+01  1.38010878e+01  4.53278431e+00\n",
      "   1.95964295e+00  1.15443565e+00  9.62186668e-01  1.15443565e+00\n",
      "   1.95964295e+00  4.53278431e+00  1.38010878e+01  5.41040729e+01\n",
      "   2.70029649e+02]\n",
      " [ 7.27791479e+01  1.38010878e+01  3.25858705e+00  9.62186668e-01\n",
      "   3.63544525e-01  1.87395191e-01  1.47000600e-01  1.87395191e-01\n",
      "   3.63544525e-01  9.62186668e-01  3.25858705e+00  1.38010878e+01\n",
      "   7.27791479e+01]\n",
      " [ 2.55122254e+01  4.53278431e+00  9.62186668e-01  2.35940634e-01\n",
      "   6.31449604e-02  1.73595417e-02  7.65987090e-03  1.73595417e-02\n",
      "   6.31449604e-02  2.35940634e-01  9.62186668e-01  4.53278431e+00\n",
      "   2.55122254e+01]\n",
      " [ 1.18103439e+01  1.95964295e+00  3.63544525e-01  6.31449604e-02\n",
      "  -0.00000000e+00 -1.39378396e-02 -1.64001338e-02 -1.39378396e-02\n",
      "  -0.00000000e+00  6.31449604e-02  3.63544525e-01  1.95964295e+00\n",
      "   1.18103439e+01]\n",
      " [ 7.35614251e+00  1.15443565e+00  1.87395191e-01  1.73595417e-02\n",
      "  -1.39378396e-02 -1.91586555e-02 -1.97253632e-02 -1.91586555e-02\n",
      "  -1.39378396e-02  1.73595417e-02  1.87395191e-01  1.15443565e+00\n",
      "   7.35614251e+00]\n",
      " [ 6.26791874e+00  9.62186668e-01  1.47000600e-01  7.65987090e-03\n",
      "  -1.64001338e-02 -1.97253632e-02 -1.98943679e-02 -1.97253632e-02\n",
      "  -1.64001338e-02  7.65987090e-03  1.47000600e-01  9.62186668e-01\n",
      "   6.26791874e+00]\n",
      " [ 7.35614251e+00  1.15443565e+00  1.87395191e-01  1.73595417e-02\n",
      "  -1.39378396e-02 -1.91586555e-02 -1.97253632e-02 -1.91586555e-02\n",
      "  -1.39378396e-02  1.73595417e-02  1.87395191e-01  1.15443565e+00\n",
      "   7.35614251e+00]\n",
      " [ 1.18103439e+01  1.95964295e+00  3.63544525e-01  6.31449604e-02\n",
      "  -0.00000000e+00 -1.39378396e-02 -1.64001338e-02 -1.39378396e-02\n",
      "  -0.00000000e+00  6.31449604e-02  3.63544525e-01  1.95964295e+00\n",
      "   1.18103439e+01]\n",
      " [ 2.55122254e+01  4.53278431e+00  9.62186668e-01  2.35940634e-01\n",
      "   6.31449604e-02  1.73595417e-02  7.65987090e-03  1.73595417e-02\n",
      "   6.31449604e-02  2.35940634e-01  9.62186668e-01  4.53278431e+00\n",
      "   2.55122254e+01]\n",
      " [ 7.27791479e+01  1.38010878e+01  3.25858705e+00  9.62186668e-01\n",
      "   3.63544525e-01  1.87395191e-01  1.47000600e-01  1.87395191e-01\n",
      "   3.63544525e-01  9.62186668e-01  3.25858705e+00  1.38010878e+01\n",
      "   7.27791479e+01]\n",
      " [ 2.70029649e+02  5.41040729e+01  1.38010878e+01  4.53278431e+00\n",
      "   1.95964295e+00  1.15443565e+00  9.62186668e-01  1.15443565e+00\n",
      "   1.95964295e+00  4.53278431e+00  1.38010878e+01  5.41040729e+01\n",
      "   2.70029649e+02]\n",
      " [ 1.28964586e+03  2.70029649e+02  7.27791479e+01  2.55122254e+01\n",
      "   1.18103439e+01  7.35614251e+00  6.26791874e+00  7.35614251e+00\n",
      "   1.18103439e+01  2.55122254e+01  7.27791479e+01  2.70029649e+02\n",
      "   1.28964586e+03]]\n"
     ]
    }
   ],
   "source": [
    "img = Image.open(\"Cameraman.tif\")\n",
    "\n",
    "img_result = img.copy()\n",
    "detect_edge(img_result, 2)\n",
    "plt.imsave(\"LoG_2.jpg\", img_result, cmap='gray')\n",
    "plt.imshow(img_result, cmap=\"gray\")\n",
    "\n",
    "img_result = img.copy()\n",
    "detect_edge(img_result, 3)\n",
    "plt.imsave(\"LoG_3.jpg\", img_result, cmap='gray')\n",
    "plt.imshow(img_result, cmap=\"gray\")\n",
    "\n",
    "img_result = img.copy()\n",
    "detect_edge(img_result, 4)\n",
    "plt.imsave(\"LoG_4.jpg\", img_result, cmap='gray')\n",
    "plt.imshow(img_result, cmap=\"gray\")"
   ]
  },
  {
   "cell_type": "code",
   "execution_count": null,
   "metadata": {},
   "outputs": [],
   "source": []
  }
 ],
 "metadata": {
  "kernelspec": {
   "display_name": "Python 3",
   "language": "python",
   "name": "python3"
  },
  "language_info": {
   "codemirror_mode": {
    "name": "ipython",
    "version": 3
   },
   "file_extension": ".py",
   "mimetype": "text/x-python",
   "name": "python",
   "nbconvert_exporter": "python",
   "pygments_lexer": "ipython3",
   "version": "3.7.4"
  }
 },
 "nbformat": 4,
 "nbformat_minor": 2
}
