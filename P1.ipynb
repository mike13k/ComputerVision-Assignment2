{
 "cells": [
  {
   "cell_type": "code",
   "execution_count": 1,
   "metadata": {},
   "outputs": [],
   "source": [
    "from PIL import Image\n",
    "import numpy as np \n",
    "import matplotlib.pyplot as plt\n",
    "import math"
   ]
  },
  {
   "cell_type": "code",
   "execution_count": 2,
   "metadata": {},
   "outputs": [],
   "source": [
    "def get_filter_size(sigma):\n",
    "    s = (2 * math.ceil(3*sigma)) + 1\n",
    "    return s"
   ]
  },
  {
   "cell_type": "code",
   "execution_count": 3,
   "metadata": {},
   "outputs": [],
   "source": [
    "def calculate_log(x, y, sigma):\n",
    "    return (-1/(math.pi*(sigma**4))) * (1 - ( ((x**2)+(y**2))/(2*(sigma**2)) ) ) * (math.e**( ((x**2)+(y**2)) / (2*(sigma**2)) ))"
   ]
  },
  {
   "cell_type": "code",
   "execution_count": 4,
   "metadata": {},
   "outputs": [],
   "source": [
    "def calculate_filter(sigma):\n",
    "    size = get_filter_size(sigma)\n",
    "    log_filter = np.zeros((size,size))\n",
    "    \n",
    "    center_x = math.floor(size / 2)\n",
    "    center_y = math.floor(size / 2)\n",
    "    \n",
    "    for i in range(size):\n",
    "        for j in range(size):\n",
    "            distance_x = abs(center_x - j)\n",
    "            distance_y = abs(center_y - i)\n",
    "            log_filter[i][j] = calculate_log(distance_x,distance_y,sigma)\n",
    "            \n",
    "    return log_filter, size"
   ]
  },
  {
   "cell_type": "code",
   "execution_count": 15,
   "metadata": {},
   "outputs": [],
   "source": [
    "def detect_edge(img, sigma):\n",
    "    original_img = img.copy()\n",
    "    log_filter, size = calculate_filter(sigma)\n",
    "    \n",
    "    center_x = math.floor(size / 2)\n",
    "    center_y = math.floor(size / 2)\n",
    "    \n",
    "    # Apply \"log_filter\" on \"original_img\" in some way\n",
    "    # and put the values in \"img\"\n",
    "    "
   ]
  },
  {
   "cell_type": "code",
   "execution_count": 16,
   "metadata": {},
   "outputs": [
    {
     "data": {
      "text/plain": [
       "<matplotlib.image.AxesImage at 0xc8da790>"
      ]
     },
     "execution_count": 16,
     "metadata": {},
     "output_type": "execute_result"
    },
    {
     "data": {
      "image/png": "[encoded data removed]",
      "text/plain": [
       "<Figure size 432x288 with 1 Axes>"
      ]
     },
     "metadata": {
      "needs_background": "light"
     },
     "output_type": "display_data"
    }
   ],
   "source": [
    "img = Image.open(\"Cameraman.tif\")\n",
    "\n",
    "img_result = img.copy()\n",
    "detect_edge(img_result, 2)\n",
    "plt.figure()\n",
    "plt.imsave(\"LoG_2.jpg\", img_result, cmap='gray')\n",
    "plt.imshow(img_result, cmap=\"gray\")\n",
    "\n",
    "img_result = img.copy()\n",
    "detect_edge(img_result, 3)\n",
    "plt.figure()\n",
    "plt.imsave(\"LoG_3.jpg\", img_result, cmap='gray')\n",
    "plt.imshow(img_result, cmap=\"gray\")\n",
    "\n",
    "img_result = img.copy()\n",
    "detect_edge(img_result, 4)\n",
    "plt.figure()\n",
    "plt.imsave(\"LoG_4.jpg\", img_result, cmap='gray')\n",
    "plt.imshow(img_result, cmap=\"gray\")"
   ]
  },
  {
   "cell_type": "code",
   "execution_count": null,
   "metadata": {},
   "outputs": [],
   "source": []
  }
 ],
 "metadata": {
  "kernelspec": {
   "display_name": "Python 3",
   "language": "python",
   "name": "python3"
  },
  "language_info": {
   "codemirror_mode": {
    "name": "ipython",
    "version": 3
   },
   "file_extension": ".py",
   "mimetype": "text/x-python",
   "name": "python",
   "nbconvert_exporter": "python",
   "pygments_lexer": "ipython3",
   "version": "3.7.4"
  }
 },
 "nbformat": 4,
 "nbformat_minor": 2
}
